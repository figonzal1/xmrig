{
  "nbformat": 4,
  "nbformat_minor": 0,
  "metadata": {
    "colab": {
      "name": "google-colab.ipynb",
      "provenance": []
    },
    "kernelspec": {
      "name": "python3",
      "display_name": "Python 3"
    }
  },
  "cells": [
    {
      "cell_type": "code",
      "metadata": {
        "colab": {
          "base_uri": "https://localhost:8080/"
        },
        "id": "HwJ9dI49ocOW",
        "outputId": "38a19584-2d4b-4320-8062-7e417229aaf5"
      },
      "source": [
        "from google.colab import drive\r\n",
        "drive.mount('/content/gdrive')"
      ],
      "execution_count": 1,
      "outputs": [
        {
          "output_type": "stream",
          "text": [
            "Mounted at /content/gdrive\n"
          ],
          "name": "stdout"
        }
      ]
    },
    {
      "cell_type": "code",
      "metadata": {
        "colab": {
          "base_uri": "https://localhost:8080/"
        },
        "id": "aG3PjIFboeLV",
        "outputId": "cd161cd8-dcd7-43b0-ad58-82f278f4c662"
      },
      "source": [
        "#CODE\r\n",
        "#Generate root password\r\n",
        "import random, string\r\n",
        "#password = ''.join(random.choice(string.ascii_letters + string.digits) for i in range(20))\r\n",
        "password = \"MI_PASSWORD\"\r\n",
        "#Download ngrok\r\n",
        "! wget -q -c -nc https://bin.equinox.io/c/4VmDzA7iaHb/ngrok-stable-linux-amd64.zip\r\n",
        "! unzip -qq -n ngrok-stable-linux-amd64.zip\r\n",
        "#Setup sshd\r\n",
        "! apt-get install -qq -o=Dpkg::Use-Pty=0 openssh-server pwgen > /dev/null\r\n",
        "#Set root password\r\n",
        "! echo root:$password | chpasswd\r\n",
        "! mkdir -p /var/run/sshd\r\n",
        "! echo 'PermitRootLogin yes' >> /etc/ssh/sshd_config\r\n",
        "! echo 'PasswordAuthentication yes' >> /etc/ssh/sshd_config\r\n",
        "! echo 'LD_LIBRARY_PATH=/usr/lib64-nvidia' >> /root/.bashrc\r\n",
        "! echo 'export LD_LIBRARY_PATH' >> /root/.bashrc\r\n",
        "#Run sshd\r\n",
        "get_ipython().system_raw('/usr/sbin/sshd -D &')\r\n",
        "#Ask token\r\n",
        "print('Copy authtoken from https://dashboard.ngrok.com/auth')\r\n",
        "import getpass\r\n",
        "authtoken = getpass.getpass()\r\n",
        "#Create tunnel\r\n",
        "get_ipython().system_raw('./ngrok authtoken $authtoken && ./ngrok tcp 22 &')\r\n",
        "#Print root password\r\n",
        "print('Root password: {}'.format(password))\r\n",
        "#Get public address\r\n",
        "! curl -s http://localhost:4040/api/tunnels | python3 -c 'import sys, json; print(json.load(sys.stdin)[\"tunnels\"][0][\"public_url\"])'"
      ],
      "execution_count": 4,
      "outputs": [
        {
          "output_type": "stream",
          "text": [
            "Copy authtoken from https://dashboard.ngrok.com/auth\n",
            "··········\n",
            "Root password: MI_PASSWORD\n",
            "tcp://2.tcp.ngrok.io:14538\n"
          ],
          "name": "stdout"
        }
      ]
    },
    {
      "cell_type": "code",
      "metadata": {
        "id": "L3Le_-6hozxS"
      },
      "source": [
        "ssh root@2.tcp.ngrok.io -p 14538"
      ],
      "execution_count": null,
      "outputs": []
    }
  ]
}